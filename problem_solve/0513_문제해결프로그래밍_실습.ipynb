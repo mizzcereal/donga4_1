{
  "nbformat": 4,
  "nbformat_minor": 0,
  "metadata": {
    "colab": {
      "provenance": []
    },
    "kernelspec": {
      "name": "python3",
      "display_name": "Python 3"
    },
    "language_info": {
      "name": "python"
    }
  },
  "cells": [
    {
      "cell_type": "code",
      "execution_count": null,
      "metadata": {
        "colab": {
          "base_uri": "https://localhost:8080/"
        },
        "id": "J78Ch1075neT",
        "outputId": "f9df4527-1fc9-4fa0-bf2c-baa73c8d8f87"
      },
      "outputs": [
        {
          "output_type": "stream",
          "name": "stdout",
          "text": [
            "이상치 제거 전 데이터 :  [10, 12, 14, 15, 18, 100, 13, 11, 12, 14, 13, 12, 15]\n"
          ]
        }
      ],
      "source": [
        "#간단한 데이터리스트\n",
        "#요구사항\n",
        "#1. IQR방식 이용해 이상치 제거\n",
        "#2. 이상치제거 데이터를 clean_dat로 하여 표준화 정규화 수행\n",
        "\n",
        "import numpy as np\n",
        "\n",
        "data = [10,12,14,15,18,100,13,11,12,14,13,12,15]\n",
        "\n",
        "print(\"이상치 제거 전 데이터 : \", data)"
      ]
    },
    {
      "cell_type": "code",
      "source": [
        "upper_data = np.quantile(data, 0.75)\n",
        "lower_data = np.quantile(data, 0.25)\n",
        "iqr = upper_data - lower_data\n",
        "\n",
        "upper_bound = upper_data + (iqr * 1.5)\n",
        "lower_bound = lower_data - (iqr * 1.5)\n",
        "\n",
        "clean_data = []\n",
        "\n",
        "for i in data:\n",
        "  if(i < upper_bound and i > lower_bound):\n",
        "    clean_data.append(i)\n",
        "\n",
        "print(\"이상치 제거 후 데이터 : \", clean_data)"
      ],
      "metadata": {
        "colab": {
          "base_uri": "https://localhost:8080/"
        },
        "id": "75zW5NLI6SAd",
        "outputId": "5dfd6cf5-ce38-4639-a639-98c93f2e0e65"
      },
      "execution_count": null,
      "outputs": [
        {
          "output_type": "stream",
          "name": "stdout",
          "text": [
            "이상치 제거 후 데이터 :  [10, 12, 14, 15, 18, 13, 11, 12, 14, 13, 12, 15]\n"
          ]
        }
      ]
    },
    {
      "cell_type": "code",
      "source": [
        "def zscore():\n",
        "  mean = np.mean(clean_data)\n",
        "  std = np.std(clean_data)\n",
        "\n",
        "  zscore = []\n",
        "\n",
        "  for list in clean_data:\n",
        "    zscore.append((list-mean)/std)\n",
        "\n",
        "  z = np.array(zscore)\n",
        "  print(\"표준화된 데이터\")\n",
        "\n",
        "  return z"
      ],
      "metadata": {
        "id": "MoRZs0jo9Cdp"
      },
      "execution_count": null,
      "outputs": []
    },
    {
      "cell_type": "code",
      "source": [
        "def nomarlize():\n",
        "  max = np.max(clean_data)\n",
        "  min = np.min(clean_data)\n",
        "\n",
        "  nomarlize = []\n",
        "\n",
        "  for list in clean_data:\n",
        "    nomarlize.append((list-min)/(max-min))\n",
        "\n",
        "  n = np.array(nomarlize)\n",
        "  print(\"정규화된 데이터\")\n",
        "  return n"
      ],
      "metadata": {
        "id": "KoWWDkvi9Mgk"
      },
      "execution_count": null,
      "outputs": []
    },
    {
      "cell_type": "code",
      "source": [
        "print(zscore())\n",
        "print(nomarlize())"
      ],
      "metadata": {
        "colab": {
          "base_uri": "https://localhost:8080/"
        },
        "id": "uJirvVc955YB",
        "outputId": "54a15a68-3e32-47ac-c36a-b4273d6d09ea"
      },
      "execution_count": null,
      "outputs": [
        {
          "output_type": "stream",
          "name": "stdout",
          "text": [
            "표준화된 데이터\n",
            "[-1.58820278 -0.61084722  0.36650833  0.85518611  2.32121944 -0.12216944\n",
            " -1.099525   -0.61084722  0.36650833 -0.12216944 -0.61084722  0.85518611]\n",
            "정규화된 데이터\n",
            "[0.    0.25  0.5   0.625 1.    0.375 0.125 0.25  0.5   0.375 0.25  0.625]\n"
          ]
        }
      ]
    }
  ]
}