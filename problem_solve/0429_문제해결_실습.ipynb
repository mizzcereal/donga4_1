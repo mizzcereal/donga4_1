{
  "nbformat": 4,
  "nbformat_minor": 0,
  "metadata": {
    "colab": {
      "provenance": []
    },
    "kernelspec": {
      "name": "python3",
      "display_name": "Python 3"
    },
    "language_info": {
      "name": "python"
    }
  },
  "cells": [
    {
      "cell_type": "code",
      "execution_count": 25,
      "metadata": {
        "colab": {
          "base_uri": "https://localhost:8080/"
        },
        "id": "H3BSp4H6h-VL",
        "outputId": "01789df2-1ad9-4333-a450-92029575bb5a"
      },
      "outputs": [
        {
          "output_type": "stream",
          "name": "stdout",
          "text": [
            "[표준화 결과]\n",
            "[-1.41421356 -0.70710678  0.          0.70710678  1.41421356]\n",
            "[정규화 결과]\n",
            "[0.   0.25 0.5  0.75 1.  ]\n"
          ]
        }
      ],
      "source": [
        "#표준화 및 정규화 실습\n",
        "#간단한 데이터리스트\n",
        "#요구사항\n",
        "#1.표준화를 진행(평균을0, 표준편차를1로 맞추기)\n",
        "#2.정규화를 진행(데이터를 0과1사이로 스케일 조정)\n",
        "\n",
        "import numpy as np\n",
        "\n",
        "data = [10,20,30,40,50]\n",
        "\n",
        "mean = np.mean(data)\n",
        "std = np.std(data)\n",
        "min = np.min(data)\n",
        "max = np.max(data)\n",
        "\n",
        "z = []\n",
        "n = []\n",
        "\n",
        "for list in data:\n",
        "    z.append((list-mean)/std)\n",
        "\n",
        "\n",
        "for list in data:\n",
        "    n.append((list-min)/(max-min))\n",
        "\n",
        "z = np.array(z)\n",
        "n = np.array(n)\n",
        "\n",
        "print(\"[표준화 결과]\")\n",
        "print(z)\n",
        "print(\"[정규화 결과]\")\n",
        "print(n)\n"
      ]
    }
  ]
}